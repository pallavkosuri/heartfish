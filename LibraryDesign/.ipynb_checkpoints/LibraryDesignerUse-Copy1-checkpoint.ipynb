{
 "cells": [
  {
   "cell_type": "code",
   "execution_count": 1,
   "metadata": {},
   "outputs": [],
   "source": [
    "import glob,os,numpy as np\n",
    "import cPickle as pickle\n",
    "#Please install Biopython via: pip install Biopython\n",
    "import LibraryDesigner as ld\n",
    "import LibraryTools as lt\n",
    "from tqdm import tqdm_notebook as tqdm"
   ]
  },
  {
   "cell_type": "code",
   "execution_count": 155,
   "metadata": {},
   "outputs": [
    {
     "data": {
      "text/plain": [
       "<module 'LibraryDesigner' from 'LibraryDesigner.py'>"
      ]
     },
     "execution_count": 155,
     "metadata": {},
     "output_type": "execute_result"
    }
   ],
   "source": [
    "reload(ld)"
   ]
  },
  {
   "cell_type": "markdown",
   "metadata": {},
   "source": [
    "### Construct count table with all the 17-mers in the genome/transcriptome"
   ]
  },
  {
   "cell_type": "markdown",
   "metadata": {},
   "source": [
    "Warning: This requires >2*4**17  bytes (~34Gb) of free RAM"
   ]
  },
  {
   "cell_type": "code",
   "execution_count": null,
   "metadata": {},
   "outputs": [],
   "source": [
    "reload(ld)\n",
    "ct = ld.countTable(word=17,save_file=r'M:\\genome_17w\\hg38\\allgenome_17w.npy',\n",
    "                   sparse=False,fromfile=False,verbose=True)\n",
    "ct.read(r'M:\\genome_17w\\hg38\\human_genome.fasta')# can be file or list of files\n",
    "ct.consume_batch(batch=1000000,reset=False)\n",
    "ct.save()"
   ]
  },
  {
   "cell_type": "markdown",
   "metadata": {},
   "source": [
    "### RNA only"
   ]
  },
  {
   "cell_type": "markdown",
   "metadata": {},
   "source": [
    "#### Isoforms"
   ]
  },
  {
   "cell_type": "code",
   "execution_count": null,
   "metadata": {},
   "outputs": [],
   "source": [
    "tr_file = r'M:\\genome_17w\\hg38\\Homo_sapiens.GRCh38.cdna.all.fa'\n",
    "names,seqs = ld.fastaread(tr_file)"
   ]
  },
  {
   "cell_type": "code",
   "execution_count": null,
   "metadata": {},
   "outputs": [],
   "source": [
    "isoform_file = r'E:\\Bogdan\\Dropbox\\code_Seurat\\WholeGenome_MERFISH\\MiscProbes\\CBX5_isoforms.fasta'\n",
    "names_is,seqs_is = zip(*[(nm,sq) for nm,sq in zip(names,seqs) if 'CBX5' in nm])\n",
    "ld.fastawrite(isoform_file,names_is,seqs_is)"
   ]
  },
  {
   "cell_type": "markdown",
   "metadata": {},
   "source": [
    "#### Design probes"
   ]
  },
  {
   "cell_type": "code",
   "execution_count": 36,
   "metadata": {},
   "outputs": [
    {
     "name": "stdout",
     "output_type": "stream",
     "text": [
      "Setting attribute: map_isoforms\n",
      "Mapping no. of seqs: 7\n",
      "Setting attribute: map_rep_transcriptome\n",
      "Mapping no. of seqs: 3866\n",
      "Setting attribute: map_transcriptome\n",
      "Time(s): 33.7380001545\n",
      "Dealing with sequence: 1 out of 1\n",
      "Time(s): 20.9230000973\n",
      "Picking non-overlaping sequences.\n",
      "Time(s): 0.744000196457\n"
     ]
    }
   ],
   "source": [
    "reload(ld)\n",
    "\n",
    "in_file = r'E:\\Bogdan\\Dropbox\\code_Seurat\\WholeGenome_MERFISH\\MiscProbes\\CBX5.fasta'\n",
    "isoform_file = r'E:\\Bogdan\\Dropbox\\code_Seurat\\WholeGenome_MERFISH\\MiscProbes\\CBX5_isoforms.fasta'\n",
    "save_file = in_file.replace('.fasta','.pbr')\n",
    "\n",
    "transcriptome_fl = r'M:\\genome_17w\\hg38\\transcriptome_17w.npy'\n",
    "genome_fl = r'M:\\genome_17w\\hg38\\allgenome_17w_new.npy'\n",
    "rep_transcriptome_fl = r'M:\\genome_17w\\hg38\\rtRNA_hg38.fasta'\n",
    "#rep_genome_fl = r'/n/dulacfs2/Users/bbintu/Genomes/mouse/mm10/repeatSequences.fasta'\n",
    "#local_genome_fl = in_files\n",
    "\n",
    "\n",
    "pb_designer = ld.pb_reports_class(\n",
    "    sequence_dic={'file':in_file,'use_revc':False,'use_kmer':True},\n",
    "    map_dic={'transcriptome':{'file':transcriptome_fl,'use_revc':False,'use_kmer':True},\n",
    "          #'genome':{'file':genome_fl,'use_revc':True,'use_kmer':True},\n",
    "          'rep_transcriptome':{'file':rep_transcriptome_fl,'use_revc':True,'use_kmer':True},\n",
    "          #'rep_genome':{'file':rep_genome_fl,'use_revc':True,'use_kmer':True},\n",
    "          'isoforms':{'file':isoform_file,'use_revc':False,'use_kmer':True}},\n",
    "          #'local_genome':{'file':local_genome_fl,'force_list':True,'use_revc':True,'use_kmer':True}},\n",
    "    save_file=save_file,\n",
    "    params_dic={'word_size':17,'pb_len':40,'buffer_len':2,'max_count':2**16-1,'check_on_go':False,'auto':False},\n",
    "    dic_check={('transcriptome','isoforms'):10,\n",
    "                'rep_transcriptome':0,'gc':[0.25,0.75],'tm':70})\n",
    "\n",
    "pb_designer.computeOTmaps()\n",
    "pb_designer.compute_pb_report()\n",
    "pb_designer.perform_check_end()\n",
    "pb_designer.plots()\n",
    "pb_designer.save_csv(pb_designer,name='CBX5')"
   ]
  },
  {
   "cell_type": "markdown",
   "metadata": {},
   "source": [
    "### Reverse complement, add stv1 readout sequence and select for IDT order"
   ]
  },
  {
   "cell_type": "code",
   "execution_count": 95,
   "metadata": {},
   "outputs": [
    {
     "name": "stdout",
     "output_type": "stream",
     "text": [
      "CBX5_pb_168_stv1,gaaccgtcccaagcgttgcgGCATGCAGTTAAGCATTGTGGCTATGGCCTCCCCTGCCTC,25nm,STD\n",
      "CBX5_pb_405_stv1,gaaccgtcccaagcgttgcgCTTTCCACTTCAGTAGATATTCCACTTGTCCCTTAACCAC,25nm,STD\n",
      "CBX5_pb_590_stv1,gaaccgtcccaagcgttgcgTTTAGATTTGATGTCATCGGCACTGTTTGAGAAATTGGAT,25nm,STD\n",
      "CBX5_pb_800_stv1,gaaccgtcccaagcgttgcgCCATGTCAGTCTCTCTTCATAAAATGCTATCACAATTTGT,25nm,STD\n",
      "CBX5_pb_1010_stv1,gaaccgtcccaagcgttgcgCAAGAGAACCAATACCAACATTTCTCCTGTGGAGCACAGT,25nm,STD\n",
      "CBX5_pb_1178_stv1,gaaccgtcccaagcgttgcgCAAGACTCTAAGGTGATTAAAAAGTTGAAACTCATCTTGA,25nm,STD\n",
      "CBX5_pb_1388_stv1,gaaccgtcccaagcgttgcgGGGTAGAGCTGAACAAGGTTGGGAAAGCCCCAACAGGTAG,25nm,STD\n",
      "CBX5_pb_1635_stv1,gaaccgtcccaagcgttgcgACTATAGCTACAAATCTGCACAGTTAATAATCTTGTCATT,25nm,STD\n",
      "CBX5_pb_1805_stv1,gaaccgtcccaagcgttgcgAAAAGTTGGCAGGGTTGGAGGGTGCCTAGCACCTTGGCAC,25nm,STD\n",
      "CBX5_pb_2015_stv1,gaaccgtcccaagcgttgcgATATTTTGGGGACTCTTGGTGGTAAATCCAGGAGCCAAGA,25nm,STD\n",
      "CBX5_pb_2330_stv1,gaaccgtcccaagcgttgcgAAGAAACCAAAACGAAGTATTTTGCTGAGTAAGAAGAAAA,25nm,STD\n",
      "CBX5_pb_2543_stv1,gaaccgtcccaagcgttgcgGCGCTCTAGAATTAAGGCTATATTAAGCATTTATTCTTAT,25nm,STD\n",
      "CBX5_pb_2753_stv1,gaaccgtcccaagcgttgcgAATTCAATCAGCAGCTGAGCAGGGAAGCAATGTTAACAAA,25nm,STD\n",
      "CBX5_pb_2934_stv1,gaaccgtcccaagcgttgcgACTCCCACCCACTTGAGGTATGGTTTATGAGCTCTTGCCC,25nm,STD\n",
      "CBX5_pb_3144_stv1,gaaccgtcccaagcgttgcgCCATATCACCTCCTCAGGAGCTCTGGCCTATTTTTGTCCT,25nm,STD\n",
      "CBX5_pb_3354_stv1,gaaccgtcccaagcgttgcgGAATGTCTTAAATATTACCTATAACCACAGCAGCCACATG,25nm,STD\n",
      "CBX5_pb_3523_stv1,gaaccgtcccaagcgttgcgTACATTCCTATAGAACCAGCTGCAGGTAGGCAGGAAGAGA,25nm,STD\n",
      "CBX5_pb_3733_stv1,gaaccgtcccaagcgttgcgATTTTTAGCATTTGAGACTTAGGTGTTTAAGAGTGCTTAG,25nm,STD\n",
      "CBX5_pb_3901_stv1,gaaccgtcccaagcgttgcgTGAAGGCCATCTGCCCAGCCCAGCAATCAAAGGGCTGCTA,25nm,STD\n",
      "CBX5_pb_4139_stv1,gaaccgtcccaagcgttgcgAGCTTCTTCTCTGGGATCTACTGAGGAGTGAAATCTAAAT,25nm,STD\n",
      "CBX5_pb_4349_stv1,gaaccgtcccaagcgttgcgTTGGAATTCTGAGACTACCTCCAAGAATCATCCACGGAAG,25nm,STD\n",
      "CBX5_pb_4810_stv1,gaaccgtcccaagcgttgcgGCAACAAAGAGGGCAACTGGAATTTAAAAAAAATTGTATT,25nm,STD\n",
      "CBX5_pb_5043_stv1,gaaccgtcccaagcgttgcgGCTAATGACTGCTTCTCAGTAATTCAGGAAAAATTTAGAA,25nm,STD\n",
      "CBX5_pb_5265_stv1,gaaccgtcccaagcgttgcgCCATGAACAGAAAAGCAAATATAAATGCAGTTGATAAACT,25nm,STD\n",
      "CBX5_pb_5468_stv1,gaaccgtcccaagcgttgcgGAGTGGACCAAAACTGGATTTTGTCCATGGCAACACTGTT,25nm,STD\n",
      "CBX5_pb_5678_stv1,gaaccgtcccaagcgttgcgCTGAACATAGGGAAAATGGACTGCTGGGTGGCTACAGAAC,25nm,STD\n",
      "CBX5_pb_5846_stv1,gaaccgtcccaagcgttgcgTTTATGCCCTCAAAACTGAACCTTAAGGTAGAGACAATTG,25nm,STD\n",
      "CBX5_pb_6056_stv1,gaaccgtcccaagcgttgcgCTGGCTCCAGACCTTTCCTCTCTGCCTTGCCACAGGCATG,25nm,STD\n",
      "CBX5_pb_6279_stv1,gaaccgtcccaagcgttgcgTGGCCTCTTTCTGAACCTTGTATCTTCAGGCCAAAAAAAT,25nm,STD\n",
      "CBX5_pb_6460_stv1,gaaccgtcccaagcgttgcgGCTACAAACTATACAACATCAGCCAGTCTGTCTCTGCCCC,25nm,STD\n",
      "CBX5_pb_6670_stv1,gaaccgtcccaagcgttgcgCCAAGAATCTAAACCAGGGATGAAAATCAGGAGTTCTCAA,25nm,STD\n",
      "CBX5_pb_6880_stv1,gaaccgtcccaagcgttgcgTGGAAAGCATGTCCGTTTTAGGCTTAAAGGCAGTTAAGTC,25nm,STD\n",
      "CBX5_pb_7335_stv1,gaaccgtcccaagcgttgcgGTATTTCTGGCAAAGGTTTCCACATAACTGATACAATTCT,25nm,STD\n",
      "CBX5_pb_7551_stv1,gaaccgtcccaagcgttgcgTTCACACTTTAACTTTCCAGAGCAGTTACTCTAATTCCTG,25nm,STD\n",
      "CBX5_pb_7730_stv1,gaaccgtcccaagcgttgcgGAACAAGCTGTCAATGAACAGGAAAAATTCCATCTTAGAA,25nm,STD\n",
      "CBX5_pb_7971_stv1,gaaccgtcccaagcgttgcgTTGAAATTGTCTTAATTAATGGCTCTTTCCTTGTCAGCTT,25nm,STD\n",
      "CBX5_pb_8183_stv1,gaaccgtcccaagcgttgcgGAATCGACTGTTAGGGTCACACCTGCCAATGCCAGGGGAC,25nm,STD\n",
      "CBX5_pb_8380_stv1,gaaccgtcccaagcgttgcgTACAGGAACCATTCCAAGACCTAAATAGATTTTTTTTTTT,25nm,STD\n",
      "CBX5_pb_9027_stv1,gaaccgtcccaagcgttgcgAAGTCCCCACATACAACAGAAACTCAAAAGATGATTTATC,25nm,STD\n",
      "CBX5_pb_9237_stv1,gaaccgtcccaagcgttgcgGTGAGGGGTGAGGGTGACACGAGACAAACACCAAACTCAC,25nm,STD\n",
      "CBX5_pb_9417_stv1,gaaccgtcccaagcgttgcgGGGGATGAAAATATTCTCTGTAACTAATCATATAGACTCT,25nm,STD\n",
      "CBX5_pb_9627_stv1,gaaccgtcccaagcgttgcgAGCGCTCTTATAAAGCTGCAAGTTGGTGGCGTGGGAATCC,25nm,STD\n",
      "CBX5_pb_9867_stv1,gaaccgtcccaagcgttgcgTGAACTGCTTCTGAAAGTCATGTTATAGATGTTTTGAAAA,25nm,STD\n",
      "CBX5_pb_10079_stv1,gaaccgtcccaagcgttgcgATCAATCAGTTGAGGAGGTGGGCACACAGAGTCAGCATCC,25nm,STD\n",
      "CBX5_pb_10325_stv1,gaaccgtcccaagcgttgcgAGAAAATTTGCCGAGTCACTAAGTAGTTCCAGTCTTGGAG,25nm,STD\n",
      "CBX5_pb_10493_stv1,gaaccgtcccaagcgttgcgTCCAATGCTCTTGAATCTGAAATGGCCTCCCTCTGTGAAT,25nm,STD\n",
      "CBX5_pb_10703_stv1,gaaccgtcccaagcgttgcgCCCAGGTACAGATACCACAAAGGGGTACAGTGACCCAGCT,25nm,STD\n",
      "CBX5_pb_10913_stv1,gaaccgtcccaagcgttgcgAAAGGTCAAGGTTAGGTTCAGACTGCAGACACTAAGAGAT,25nm,STD\n",
      "CBX5_pb_11081_stv1,gaaccgtcccaagcgttgcgTTTTTCATGGATTACAAATCTAGGGCCAAGGAGAGGGAAA,25nm,STD\n",
      "CBX5_pb_11357_stv1,gaaccgtcccaagcgttgcgAAAGTGATTTGTTTGCTATTTGGGACAGTACAGAGTGCTG,25nm,STD\n"
     ]
    }
   ],
   "source": [
    "fl = r'E:\\Bogdan\\Dropbox\\code_Seurat\\WholeGenome_MERFISH\\MiscProbes\\CBX5.csv'\n",
    "lines = np.array([ln[:-1].split(',') for ln in open(fl,'r')][1:])\n",
    "seqs,names = lines[:,:2].T\n",
    "npbs = 50\n",
    "inds = np.linspace(0,len(seqs)-1,npbs+2)[1:-1].astype(int)\n",
    "names = names[inds]\n",
    "stv1_25mer = r'CGCAACGCTTGGGACGGTTCCAATC'\n",
    "tag = lt.seqrc(stv1_25mer)[-20:].lower()\n",
    "seqs = [tag+lt.seqrc(sq) for sq in seqs[inds]]\n",
    "\n",
    "for nm,sq in zip(names,seqs):\n",
    "    print ','.join([nm+'_stv1',sq,'25nm','STD'])"
   ]
  },
  {
   "cell_type": "code",
   "execution_count": null,
   "metadata": {
    "collapsed": true
   },
   "outputs": [],
   "source": []
  }
 ],
 "metadata": {
  "anaconda-cloud": {},
  "kernelspec": {
   "display_name": "Python 2",
   "language": "python",
   "name": "python2"
  },
  "language_info": {
   "codemirror_mode": {
    "name": "ipython",
    "version": 2
   },
   "file_extension": ".py",
   "mimetype": "text/x-python",
   "name": "python",
   "nbconvert_exporter": "python",
   "pygments_lexer": "ipython2",
   "version": "2.7.15"
  }
 },
 "nbformat": 4,
 "nbformat_minor": 2
}
