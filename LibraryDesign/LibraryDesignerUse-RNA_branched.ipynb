{
 "cells": [
  {
   "cell_type": "markdown",
   "metadata": {},
   "source": [
    "__Title:__ Design RNA probes for Mus musculus with branched DNA tree design"
   ]
  },
  {
   "cell_type": "code",
   "execution_count": null,
   "metadata": {},
   "outputs": [],
   "source": [
    "import glob,os,numpy as np\n",
    "import cPickle as pickle\n",
    "#Please install Biopython via: pip install Biopython\n",
    "import LibraryDesigner as ld\n",
    "import LibraryTools as lt\n",
    "from tqdm import tqdm_notebook as tqdm"
   ]
  },
  {
   "cell_type": "markdown",
   "metadata": {},
   "source": [
    "### Construct count table with all the 17-mers in the genome/transcriptome"
   ]
  },
  {
   "cell_type": "markdown",
   "metadata": {},
   "source": [
    "Warning: This requires >2*4**17  bytes (~34Gb) of free RAM"
   ]
  },
  {
   "cell_type": "code",
   "execution_count": 6,
   "metadata": {},
   "outputs": [],
   "source": [
    "!{os.path.abspath(ld.__file__)[:-1]}"
   ]
  },
  {
   "cell_type": "code",
   "execution_count": null,
   "metadata": {},
   "outputs": [],
   "source": [
    "reload(ld)\n",
    "\n",
    "ct = ld.countTable(word=17,save_file=r'E:\\Bogdan\\Transcriptomes\\mm10\\mm10_rna_17w.npy',\n",
    "                   sparse=False,fromfile=False,verbose=False)\n",
    "ct.read(r'E:\\Bogdan\\Transcriptomes\\mm10\\mm10_rna.fasta')# can be file or list of files\n",
    "ct.consume_batch(batch=1000000,reset=False)\n",
    "ct.save()"
   ]
  },
  {
   "cell_type": "code",
   "execution_count": 9,
   "metadata": {},
   "outputs": [],
   "source": [
    "#arr = np.load(r'E:\\Bogdan\\Transcriptomes\\mm10\\mm10_rna_17w.npy')"
   ]
  },
  {
   "cell_type": "code",
   "execution_count": null,
   "metadata": {},
   "outputs": [],
   "source": []
  },
  {
   "cell_type": "markdown",
   "metadata": {},
   "source": [
    "### RNA only"
   ]
  },
  {
   "cell_type": "markdown",
   "metadata": {},
   "source": [
    "#### Isoforms"
   ]
  },
  {
   "cell_type": "code",
   "execution_count": 10,
   "metadata": {},
   "outputs": [],
   "source": [
    "tr_file = r'E:\\Bogdan\\Transcriptomes\\mm10\\mm10_rna.fasta'\n",
    "names,seqs = ld.fastaread(tr_file)"
   ]
  },
  {
   "cell_type": "code",
   "execution_count": 11,
   "metadata": {},
   "outputs": [
    {
     "data": {
      "text/plain": [
       "['gi|755494087|ref|XM_006529383.2| PREDICTED: Mus musculus troponin T2, cardiac (Tnnt2), transcript variant X1, mRNA',\n",
       " 'gi|755494089|ref|XM_006529384.2| PREDICTED: Mus musculus troponin T2, cardiac (Tnnt2), transcript variant X2, mRNA',\n",
       " 'gi|755494093|ref|XM_006529386.2| PREDICTED: Mus musculus troponin T2, cardiac (Tnnt2), transcript variant X4, mRNA',\n",
       " 'gi|755494095|ref|XM_006529387.2| PREDICTED: Mus musculus troponin T2, cardiac (Tnnt2), transcript variant X5, mRNA',\n",
       " 'gi|755494099|ref|XM_006529389.2| PREDICTED: Mus musculus troponin T2, cardiac (Tnnt2), transcript variant X7, mRNA',\n",
       " 'gi|755494104|ref|XM_006529392.2| PREDICTED: Mus musculus troponin T2, cardiac (Tnnt2), transcript variant X10, mRNA',\n",
       " 'gi|755494106|ref|XM_006529394.2| PREDICTED: Mus musculus troponin T2, cardiac (Tnnt2), transcript variant X12, mRNA',\n",
       " 'gi|755494091|ref|XM_006529385.2| PREDICTED: Mus musculus troponin T2, cardiac (Tnnt2), transcript variant X3, mRNA',\n",
       " 'gi|755494097|ref|XM_006529388.2| PREDICTED: Mus musculus troponin T2, cardiac (Tnnt2), transcript variant X6, mRNA',\n",
       " 'gi|755494101|ref|XM_006529390.2| PREDICTED: Mus musculus troponin T2, cardiac (Tnnt2), transcript variant X8, mRNA',\n",
       " 'gi|755494107|ref|XM_006529395.2| PREDICTED: Mus musculus troponin T2, cardiac (Tnnt2), transcript variant X13, mRNA',\n",
       " 'gi|755494103|ref|XM_006529391.2| PREDICTED: Mus musculus troponin T2, cardiac (Tnnt2), transcript variant X9, mRNA',\n",
       " 'gi|755494105|ref|XM_006529393.2| PREDICTED: Mus musculus troponin T2, cardiac (Tnnt2), transcript variant X11, mRNA',\n",
       " 'gi|391738224|ref|NM_001130174.2| Mus musculus troponin T2, cardiac (Tnnt2), transcript variant 1, mRNA',\n",
       " 'gi|391738229|ref|NM_001130178.2| Mus musculus troponin T2, cardiac (Tnnt2), transcript variant 5, mRNA',\n",
       " 'gi|391738228|ref|NM_001130177.2| Mus musculus troponin T2, cardiac (Tnnt2), transcript variant 4, mRNA',\n",
       " 'gi|391738232|ref|NM_001130180.2| Mus musculus troponin T2, cardiac (Tnnt2), transcript variant 7, mRNA',\n",
       " 'gi|391738233|ref|NM_011619.3| Mus musculus troponin T2, cardiac (Tnnt2), transcript variant 9, mRNA',\n",
       " 'gi|391738226|ref|NM_001130175.2| Mus musculus troponin T2, cardiac (Tnnt2), transcript variant 2, mRNA',\n",
       " 'gi|391738230|ref|NM_001130179.2| Mus musculus troponin T2, cardiac (Tnnt2), transcript variant 6, mRNA',\n",
       " 'gi|391738234|ref|NM_001130181.2| Mus musculus troponin T2, cardiac (Tnnt2), transcript variant 8, mRNA',\n",
       " 'gi|194328744|ref|NM_001130176.1| Mus musculus troponin T2, cardiac (Tnnt2), transcript variant 3, mRNA']"
      ]
     },
     "execution_count": 11,
     "metadata": {},
     "output_type": "execute_result"
    }
   ],
   "source": [
    "[nm for nm in names if 'tnnt2' in nm.lower()]"
   ]
  },
  {
   "cell_type": "markdown",
   "metadata": {},
   "source": [
    "### Make isoform file"
   ]
  },
  {
   "cell_type": "code",
   "execution_count": 12,
   "metadata": {},
   "outputs": [],
   "source": [
    "isoform_file = r'E:\\Bogdan\\PallavProbes\\tnnt2_isoforms.fasta'\n",
    "names_is,seqs_is = zip(*[(nm,sq) for nm,sq in zip(names,seqs) if 'tnnt2' in nm.lower()])\n",
    "ld.fastawrite(isoform_file,names_is,seqs_is)"
   ]
  },
  {
   "cell_type": "markdown",
   "metadata": {},
   "source": [
    "### Make the gene fasta"
   ]
  },
  {
   "cell_type": "code",
   "execution_count": 13,
   "metadata": {},
   "outputs": [],
   "source": [
    "gene_file = r'E:\\Bogdan\\PallavProbes\\tnnt2.fasta'\n",
    "names_is,seqs_is = zip(*[(nm,sq) for nm,sq in zip(names,seqs) \n",
    "                         if 'tnnt2' in nm.lower() and 'transcript variant 1' in nm.lower()])\n",
    "ld.fastawrite(gene_file,names_is,seqs_is)"
   ]
  },
  {
   "cell_type": "code",
   "execution_count": 21,
   "metadata": {},
   "outputs": [
    {
     "name": "stdout",
     "output_type": "stream",
     "text": [
      "E:\\Bogdan\\Dropbox\\code_Seurat\\ChromatinImagingV2\\LibraryDesign\\LibraryDesigner.pyc\n"
     ]
    }
   ],
   "source": [
    "print os.path.abspath(ld.__file__)"
   ]
  },
  {
   "cell_type": "markdown",
   "metadata": {},
   "source": [
    "#### Design probes"
   ]
  },
  {
   "cell_type": "code",
   "execution_count": null,
   "metadata": {},
   "outputs": [],
   "source": [
    "reload(ld)\n",
    "\n",
    "in_file = r'E:\\Bogdan\\PallavProbes\\tnnt2.fasta'\n",
    "isoform_file = r'E:\\Bogdan\\PallavProbes\\tnnt2_isoforms.fasta'\n",
    "save_file = in_file.replace('.fasta','.pbr')\n",
    "\n",
    "transcriptome_fl = r'E:\\Bogdan\\Transcriptomes\\mm10\\mm10_rna_17w.npy'\n",
    "#genome_fl = r'M:\\genome_17w\\hg38\\allgenome_17w_new.npy'\n",
    "rep_transcriptome_fl = r'E:\\Bogdan\\Transcriptomes\\mm10\\rtRNA.fasta'\n",
    "#rep_genome_fl = r'/n/dulacfs2/Users/bbintu/Genomes/mouse/mm10/repeatSequences.fasta'\n",
    "#local_genome_fl = in_files\n",
    "\n",
    "\n",
    "pb_designer = ld.pb_reports_class(\n",
    "    sequence_dic={'file':in_file,'use_revc':False,'use_kmer':True},\n",
    "    map_dic={'transcriptome':{'file':transcriptome_fl,'use_revc':False,'use_kmer':True},\n",
    "          'rep_transcriptome':{'file':rep_transcriptome_fl,'use_revc':True,'use_kmer':True},\n",
    "          'isoforms':{'file':isoform_file,'use_revc':False,'use_kmer':True}},\n",
    "    save_file=save_file,\n",
    "    params_dic={'word_size':17,'pb_len':30,'buffer_len':2,'max_count':2**16-1,'check_on_go':False,'auto':False},\n",
    "    dic_check={('transcriptome','isoforms'):10,\n",
    "                'rep_transcriptome':0,'gc':[0.25,0.75],'tm':70})\n",
    "\n",
    "pb_designer.computeOTmaps()\n",
    "pb_designer.compute_pb_report()\n",
    "pb_designer.perform_check_end()\n",
    "pb_designer.plots(sz_bin=200.0)\n",
    "pb_designer.save_csv(pb_designer)#,name='tnnt2')"
   ]
  },
  {
   "cell_type": "code",
   "execution_count": null,
   "metadata": {},
   "outputs": [],
   "source": []
  },
  {
   "cell_type": "code",
   "execution_count": 23,
   "metadata": {},
   "outputs": [],
   "source": [
    "pb_designer = ld.pb_reports_class()\n",
    "?pb_designer.plots"
   ]
  },
  {
   "cell_type": "markdown",
   "metadata": {},
   "source": [
    "### Reverse complement, add stv1 readout sequence and select for IDT order"
   ]
  },
  {
   "cell_type": "code",
   "execution_count": 33,
   "metadata": {},
   "outputs": [
    {
     "name": "stdout",
     "output_type": "stream",
     "text": [
      "tnnt2_single_pb_0,gaaccgtcccaagcgttgcgTTTAAGCAGGCATGTGGGCTGGGGCCTTGTgaaccgtcccaagcgttgcg,25nm,STD\n",
      "tnnt2_single_pb_1,tcaatcgcgctgcatacttgGGGACTGGCTGAGGGCAGGGCATGGGGAGAtcaatcgcgctgcatacttg,25nm,STD\n",
      "tnnt2_single_pb_2,gaaccgtcccaagcgttgcgACAGGTCTTGAGGTATCTGTTCAGCCTCAGgaaccgtcccaagcgttgcg,25nm,STD\n",
      "tnnt2_single_pb_3,tcaatcgcgctgcatacttgCTCTCGGCTCTCCCTCTGAACAGGGACTGCtcaatcgcgctgcatacttg,25nm,STD\n",
      "tnnt2_single_pb_4,gaaccgtcccaagcgttgcgCTGTTCCTCCTCGTACTCCTCCACCACCTCgaaccgtcccaagcgttgcg,25nm,STD\n",
      "tnnt2_single_pb_5,tcaatcgcgctgcatacttgTCACTCCAGTCTTCCTCTTCCACAGCTTCTtcaatcgcgctgcatacttg,25nm,STD\n",
      "tnnt2_single_pb_6,gaaccgtcccaagcgttgcgCCACTGCCTCCTCTTGCTCGTCCTCCTCTTgaaccgtcccaagcgttgcg,25nm,STD\n",
      "tnnt2_single_pb_7,tcaatcgcgctgcatacttgCTCAGGTTCAGCCCCACCAGCCTCCTCCTCtcaatcgcgctgcatacttg,25nm,STD\n",
      "tnnt2_single_pb_8,gaaccgtcccaagcgttgcgTTGGCCTCCTCTGTCTCAGCCTCACCCTCAgaaccgtcccaagcgttgcg,25nm,STD\n",
      "tnnt2_single_pb_9,tcaatcgcgctgcatacttgTGGCTTCTTCATCAGGACCAACCTCTTCTAtcaatcgcgctgcatacttg,25nm,STD\n",
      "tnnt2_single_pb_10,gaaccgtcccaagcgttgcgGGTGTCCTCTACTGGACCTTCTTCAGCATCgaaccgtcccaagcgttgcg,25nm,STD\n",
      "tnnt2_single_pb_11,tcaatcgcgctgcatacttgTTGGGCATGAAGAGCCTGCTGGGCTTGGGTtcaatcgcgctgcatacttg,25nm,STD\n",
      "tnnt2_single_pb_12,gaaccgtcccaagcgttgcgTCTCTCCATCGGGGATCTTGGGTGGCACCAgaaccgtcccaagcgttgcg,25nm,STD\n",
      "tnnt2_single_pb_13,tcaatcgcgctgcatacttgCCACGCGCTTCCTGTGGATGTCATCAAAGTtcaatcgcgctgcatacttg,25nm,STD\n",
      "tnnt2_single_pb_14,gaaccgtcccaagcgttgcgGATCAGAGTCTGTAGCTCATTCAGGTCCTTgaaccgtcccaagcgttgcg,25nm,STD\n",
      "tnnt2_single_pb_15,tcaatcgcgctgcatacttgTCCTCCTTCTTCCTGTTCTCGAAGTGAGCCtcaatcgcgctgcatacttg,25nm,STD\n",
      "tnnt2_single_pb_16,gaaccgtcccaagcgttgcgCGATCCTGTCTTTGAGGGAAATCAGCTCCTgaaccgtcccaagcgttgcg,25nm,STD\n",
      "tnnt2_single_pb_17,tcaatcgcgctgcatacttgCTGCTGCTCGGCCCGCTCTGCCCGACGCTTtcaatcgcgctgcatacttg,25nm,STD\n",
      "tnnt2_single_pb_18,gaaccgtcccaagcgttgcgTGCCTTTCCTTCTCCCGCTCATTGCGAATAgaaccgtcccaagcgttgcg,25nm,STD\n",
      "tnnt2_single_pb_19,tcaatcgcgctgcatacttgCACGCCGGGCCCTCTCTTCAGCCAGGCGGTtcaatcgcgctgcatacttg,25nm,STD\n",
      "tnnt2_single_pb_20,gaaccgtcccaagcgttgcgATCCTCAGCCTTCCTCCTGTTCTCCTCCTCgaaccgtcccaagcgttgcg,25nm,STD\n",
      "tnnt2_single_pb_21,tcaatcgcgctgcatacttgATGTTGGACAGAGCCTTCTTCTTCCGGGCCtcaatcgcgctgcatacttg,25nm,STD\n",
      "tnnt2_single_pb_22,gaaccgtcccaagcgttgcgCTGTCTTCTGGATGTACCCTCCAAAGTGCAgaaccgtcccaagcgttgcg,25nm,STD\n",
      "tnnt2_single_pb_23,tcaatcgcgctgcatacttgGTGGTCGATGGCCAGCGCCTTCCTCCTCTCtcaatcgcgctgcatacttg,25nm,STD\n",
      "tnnt2_single_pb_24,gaaccgtcccaagcgttgcgTTGGCCTTCTCTCTCAGTTGGTCTTCATTCgaaccgtcccaagcgttgcg,25nm,STD\n",
      "tnnt2_single_pb_25,tcaatcgcgctgcatacttgCCTCCAGGTTGTGAATACTCTGCCACAGCTtcaatcgcgctgcatacttg,25nm,STD\n",
      "tnnt2_single_pb_26,gaaccgtcccaagcgttgcgCTTGAACTTTTCCTGCAGGTCGAACTTCTCgaaccgtcccaagcgttgcg,25nm,STD\n",
      "tnnt2_single_pb_27,tcaatcgcgctgcatacttgCGGTTTCGCAGAACGTTGATTTCGTATTTCtcaatcgcgctgcatacttg,25nm,STD\n",
      "tnnt2_single_pb_28,gaaccgtcccaagcgttgcgCACGAGTTTTGGAGACTTTCTGGTTGTCATgaaccgtcccaagcgttgcg,25nm,STD\n",
      "tnnt2_single_pb_29,tcaatcgcgctgcatacttgCTATTTCCAACGCCCGGTGACTTTGGCCTTtcaatcgcgctgcatacttg,25nm,STD\n",
      "tnnt2_single_pb_30,gaaccgtcccaagcgttgcgAGGGGGCACAGCTTTGACGAGAACAGTTTCgaaccgtcccaagcgttgcg,25nm,STD\n",
      "tnnt2_single_pb_31,tcaatcgcgctgcatacttgAGAGCTGGGATGCACGGGGCAAGGACACAAtcaatcgcgctgcatacttg,25nm,STD\n",
      "tnnt2_single_pb_32,gaaccgtcccaagcgttgcgCAGGAGTCTGCATTGGGTGCCAAGGAGGACgaaccgtcccaagcgttgcg,25nm,STD\n",
      "tnnt2_single_pb_33,tcaatcgcgctgcatacttgGCTTCTAGCTAAGCCAGCTCCCACTATCCAtcaatcgcgctgcatacttg,25nm,STD\n",
      "tnnt2_single_pb_34,gaaccgtcccaagcgttgcgTAGTGCGGGCATAGGGGTCAGGCAGAGTACgaaccgtcccaagcgttgcg,25nm,STD\n",
      "tnnt2_single_pb_35,tcaatcgcgctgcatacttgATGTGCAGTGTGTTGGCTTTTTATTGCTGGtcaatcgcgctgcatacttg,25nm,STD\n"
     ]
    }
   ],
   "source": [
    "fl = r'E:\\Bogdan\\PallavProbes\\tnnt2.csv'\n",
    "lines = np.array([ln[:-1].split(',') for ln in open(fl,'r')][1:])\n",
    "seqs,names = lines[:,:2].T\n",
    "#npbs = 50\n",
    "#inds = np.linspace(0,len(seqs)-1,npbs+2)[1:-1].astype(int)\n",
    "#names = names[inds]\n",
    "stv1_25mer = r'CGCAACGCTTGGGACGGTTCCAATC' #647/cy3\n",
    "stv_4_30mer = r'CAAGTATGCAGCGCGATTGACCGTCTCGTT'#647\n",
    "tag1 = lt.seqrc(stv1_25mer)[-20:].lower()\n",
    "tag2 = lt.seqrc(stv_4_30mer)[-20:].lower()\n",
    "seqs2 = []\n",
    "for isq,sq in enumerate(seqs):\n",
    "    tag = [tag1,tag2][isq%2]\n",
    "    seq = tag+lt.seqrc(sq)+tag\n",
    "    seqs2.append(seq)\n",
    "\n",
    "for inm,(nm,sq) in enumerate(zip(names,seqs2)):\n",
    "    print ','.join(['tnnt2_single_pb_'+str(inm),sq,'25nm','STD'])"
   ]
  },
  {
   "cell_type": "code",
   "execution_count": 35,
   "metadata": {},
   "outputs": [],
   "source": [
    "pb_dic = pickle.load(open(save_file,'rb'))"
   ]
  },
  {
   "cell_type": "code",
   "execution_count": 76,
   "metadata": {},
   "outputs": [],
   "source": [
    "pb_reports = pb_dic['pb_reports']\n",
    "cand_seqs = np.array(pb_reports.keys())\n",
    "inds = np.argsort([pb_reports[seq]['pb_index']for seq in cand_seqs])\n",
    "cand_seqs = cand_seqs[inds]\n",
    "i=0\n",
    "keep_pairs=[]\n",
    "daisy=False\n",
    "while(i<len(cand_seqs)-len(cand_seqs[0])):\n",
    "    #print i\n",
    "    lseq = cand_seqs[i]\n",
    "    rseq = cand_seqs[i+len(lseq)]\n",
    "    goodl = pb_designer.perform_check(pb_reports[lseq])\n",
    "    goodr = pb_designer.perform_check(pb_reports[rseq])\n",
    "    if not daisy:\n",
    "        if goodl and goodr:\n",
    "            i += len(lseq)#+len(lseq)\n",
    "            keep_pairs.extend([lseq,rseq])\n",
    "            daisy=True\n",
    "        else:\n",
    "            i+=1\n",
    "    else:\n",
    "        if goodr:\n",
    "            keep_pairs.extend([rseq])\n",
    "            i += len(rseq)\n",
    "        else:\n",
    "            daisy=False\n",
    "            i+=1+len(rseq)"
   ]
  },
  {
   "cell_type": "code",
   "execution_count": 82,
   "metadata": {},
   "outputs": [
    {
     "name": "stdout",
     "output_type": "stream",
     "text": [
      "tnnt2_pair_pb_0,cggccgaattacatcTTTAAGCAGGCATGTGGGCTGGGGCCTTGTagcgggaatacgggc,25nm,STD\n",
      "tnnt2_pair_pb_1,attgccctactcgcaGACTGGCTGAGGGCAGGGCATGGGGAGAGCcgtcgtaatcgaggc,25nm,STD\n",
      "tnnt2_pair_pb_2,cggccgaattacatcGTCTTGAGGTATCTGTTCAGCCTCAGCAGGagcgggaatacgggc,25nm,STD\n",
      "tnnt2_pair_pb_3,attgccctactcgcaGCTCTCCCTCTGAACAGGGACTGCACACAGcgtcgtaatcgaggc,25nm,STD\n",
      "tnnt2_pair_pb_4,cggccgaattacatcACCACCTCCTCGGCGTCAGACATGCTCTCGagcgggaatacgggc,25nm,STD\n",
      "tnnt2_pair_pb_5,attgccctactcgcaGCTTCTTCCTGTTCCTCCTCGTACTCCTCCcgtcgtaatcgaggc,25nm,STD\n",
      "tnnt2_pair_pb_6,cggccgaattacatcTCTTCTTCACTCCAGTCTTCCTCTTCCACAagcgggaatacgggc,25nm,STD\n",
      "tnnt2_pair_pb_7,attgccctactcgcaTCCTCCACTGCCTCCTCTTGCTCGTCCTCCcgtcgtaatcgaggc,25nm,STD\n",
      "tnnt2_pair_pb_8,cggccgaattacatcGGCTCAGGTTCAGCCCCACCAGCCTCCTCCagcgggaatacgggc,25nm,STD\n",
      "tnnt2_pair_pb_9,attgccctactcgcaTTGGCCTCCTCTGTCTCAGCCTCACCCTCAcgtcgtaatcgaggc,25nm,STD\n",
      "tnnt2_pair_pb_10,cggccgaattacatcGCTTCTTCATCAGGACCAACCTCTTCTACGagcgggaatacgggc,25nm,STD\n",
      "tnnt2_pair_pb_11,attgccctactcgcaTCCTCTACTGGACCTTCTTCAGCATCTTTGcgtcgtaatcgaggc,25nm,STD\n",
      "tnnt2_pair_pb_12,cggccgaattacatcATGAAGAGCCTGCTGGGCTTGGGTTTGGTGagcgggaatacgggc,25nm,STD\n",
      "tnnt2_pair_pb_13,attgccctactcgcaTCGGGGATCTTGGGTGGCACCAAGTTGGGCcgtcgtaatcgaggc,25nm,STD\n",
      "tnnt2_pair_pb_14,cggccgaattacatcCCACGCGCTTCCTGTGGATGTCATCAAAGTagcgggaatacgggc,25nm,STD\n",
      "tnnt2_pair_pb_15,attgccctactcgcaTCAGAGTCTGTAGCTCATTCAGGTCCTTCTcgtcgtaatcgaggc,25nm,STD\n",
      "tnnt2_pair_pb_16,cggccgaattacatcCCTTCTTCCTGTTCTCGAAGTGAGCCTCGAagcgggaatacgggc,25nm,STD\n",
      "tnnt2_pair_pb_17,attgccctactcgcaTGTCTTTGAGGGAAATCAGCTCCTCTTCCTcgtcgtaatcgaggc,25nm,STD\n",
      "tnnt2_pair_pb_18,cggccgaattacatcCGGCCCGCTCTGCCCGACGCTTTTCGATCCagcgggaatacgggc,25nm,STD\n",
      "tnnt2_pair_pb_19,attgccctactcgcaTCTCCCGCTCATTGCGAATACGCTGCTGCTcgtcgtaatcgaggc,25nm,STD\n",
      "tnnt2_pair_pb_20,cggccgaattacatcTCTCTTCAGCCAGGCGGTTCTGCCTTTCCTagcgggaatacgggc,25nm,STD\n",
      "tnnt2_pair_pb_21,attgccctactcgcaTCCTCAGCCTTCCTCCTGTTCTCCTCCTCCcgtcgtaatcgaggc,25nm,STD\n",
      "tnnt2_pair_pb_22,cggccgaattacatcTTGGACAGAGCCTTCTTCTTCCGGGCCTCAagcgggaatacgggc,25nm,STD\n",
      "tnnt2_pair_pb_23,attgccctactcgcaTTCTGGATGTACCCTCCAAAGTGCATCATGcgtcgtaatcgaggc,25nm,STD\n",
      "tnnt2_pair_pb_24,cggccgaattacatcGTCTGTCTCTTCCCACTCTTCCGCTCTGTCagcgggaatacgggc,25nm,STD\n",
      "tnnt2_pair_pb_25,attgccctactcgcaGTGGTCGATGGCCAGCGCCTTCCTCCTCTCcgtcgtaatcgaggc,25nm,STD\n",
      "tnnt2_pair_pb_26,cggccgaattacatcGGCCTTCTCTCTCAGTTGGTCTTCATTCAGagcgggaatacgggc,25nm,STD\n",
      "tnnt2_pair_pb_27,attgccctactcgcaCAGGTTGTGAATACTCTGCCACAGCTCCTTcgtcgtaatcgaggc,25nm,STD\n",
      "tnnt2_pair_pb_28,cggccgaattacatcCTTTTCCTGCAGGTCGAACTTCTCAGCCTCagcgggaatacgggc,25nm,STD\n",
      "tnnt2_pair_pb_29,attgccctactcgcaGCAGAACGTTGATTTCGTATTTCTGCTGCTcgtcgtaatcgaggc,25nm,STD\n",
      "tnnt2_pair_pb_30,cggccgaattacatcAGACTTTCTGGTTGTCATTGATCCGGTTTCagcgggaatacgggc,25nm,STD\n",
      "tnnt2_pair_pb_31,attgccctactcgcaCGGTGACTTTGGCCTTCCCACGAGTTTTGGcgtcgtaatcgaggc,25nm,STD\n",
      "tnnt2_pair_pb_32,cggccgaattacatcACGAGAACAGTTTCATCTATTTCCAACGCCagcgggaatacgggc,25nm,STD\n",
      "tnnt2_pair_pb_33,attgccctactcgcaGCAAGGACACAAGCAGGGGGCACAGCTTTGcgtcgtaatcgaggc,25nm,STD\n",
      "tnnt2_pair_pb_34,cggccgaattacatcCAAGGAGGACCCAGAGCTGGGATGCACGGGagcgggaatacgggc,25nm,STD\n",
      "tnnt2_pair_pb_35,attgccctactcgcaACTATCCAAACAGGAGTCTGCATTGGGTGCcgtcgtaatcgaggc,25nm,STD\n",
      "tnnt2_pair_pb_36,cggccgaattacatcGAGTACTGGCTTCTAGCTAAGCCAGCTCCCagcgggaatacgggc,25nm,STD\n",
      "tnnt2_pair_pb_37,attgccctactcgcaCTGGCATAGTGCGGGCATAGGGGTCAGGCAcgtcgtaatcgaggc,25nm,STD\n"
     ]
    }
   ],
   "source": [
    "ltag1,rtag1 = 'L1','R1'\n",
    "ltag2,rtag2 = 'L2','R2'\n",
    "pamp1 = 'GCCTCGATTACGACGGATGTAATTCGGCCGGAACCGATCGACCTTGGGCAAGAACCGATCGACCTTGGGCAAGAACCGATCGACCTTGGGCAAGAACCGATCGACCTTGGGCAAGAACCGATCGACCTTGGGCAAGAACCGATCGACCTTGGGCAAGAACCGATCGACCTTGGGCAAGAACCGATCGACCTTGGGCA'\n",
    "pamp1 = pamp1.lower()\n",
    "pamp2 = 'gcccgtattcccgcttgcgagtagggcaatCAACCGGCCGTTAAACGAGTaCAACCGGCCGTTAAACGAGTaCAACCGGCCGTTAAACGAGTaCAACCGGCCGTTAAACGAGTaCAACCGGCCGTTAAACGAGTaCAACCGGCCGTTAAACGAGTaCAACCGGCCGTTAAACGAGTaCAACCGGCCGTTAAACGAGT'\n",
    "pamp2 = pamp2.lower()\n",
    "ltag1,rtag1 =lt.seqrc(pamp1[:30])[:15],lt.seqrc(pamp1[:30])[-15:]\n",
    "ltag2,rtag2 =lt.seqrc(pamp2[:30])[:15],lt.seqrc(pamp2[:30])[-15:]\n",
    "\n",
    "#print lt.seqrc(ltag1+rtag1),pamp1[:30]\n",
    "\n",
    "for isq,sq in enumerate(keep_pairs):\n",
    "    ltag,rtag = [[ltag1,rtag2],[ltag2,rtag1]][isq%2]\n",
    "    print ','.join(['tnnt2_pair_pb_'+str(isq),ltag+lt.seqrc(sq)+rtag,'25nm','STD'])"
   ]
  },
  {
   "cell_type": "code",
   "execution_count": null,
   "metadata": {},
   "outputs": [],
   "source": [
    "2_13_2016_new_pAMP1\n",
    "GCCTCGATTACGACGGATGTAATTCGGCCGGAACCGATCGACCTTGGGCAAGAACCGATCGACCTTGGGCAAGAACCGATCGACCTTGGGCAAGAACCGATCGACCTTGGGCAAGAACCGATCGACCTTGGGCAAGAACCGATCGACCTTGGGCAAGAACCGATCGACCTTGGGCAAGAACCGATCGACCTTGGGCA\n",
    "2_13_2016_new_pAMP2\n",
    "gcccgtattcccgcttgcgagtagggcaatCAACCGGCCGTTAAACGAGTaCAACCGGCCGTTAAACGAGTaCAACCGGCCGTTAAACGAGTaCAACCGGCCGTTAAACGAGTaCAACCGGCCGTTAAACGAGTaCAACCGGCCGTTAAACGAGTaCAACCGGCCGTTAAACGAGTaCAACCGGCCGTTAAACGAGT\n",
    "\n",
    "2_13_2016_new_AMP1\n",
    "TGCCCAAGGTCGATCGGTTCGAACCGTCCCAAGCGTTGCGGAACCGTCCCAAGCGTTGCGGAACCGTCCCAAGCGTTGCGGAACCGTCCCAAGCGTTGCGGAACCGTCCCAAGCGTTGCGGAACCGTCCCAAGCGTTGCGGAACCGTCCCAAGCGTTGCGGAACCGTCCCAAGCGTTGCGGAACCGTCCCAAGCGTTGCG\n",
    "2_13_2016_new_AMP2\n",
    "actcgtttaacggccggttgGTTCGAGGCCAGAGCATTCGGTTCGAGGCCAGAGCATTCGGTTCGAGGCCAGAGCATTCGGTTCGAGGCCAGAGCATTCGGTTCGAGGCCAGAGCATTCGGTTCGAGGCCAGAGCATTCGGTTCGAGGCCAGAGCATTCGGTTCGAGGCCAGAGCATTCGGTTCGAGGCCAGAGCATTCG\n",
    "\n",
    "R1-cy3-Stv_1\n",
    "CGCAACGCTTGGGACGGTTCCAATCGGATC\n",
    "R2-cy5-Stv_2\n",
    "CGAATGCTCTGGCCTCGAACGAACGATAGC"
   ]
  },
  {
   "cell_type": "code",
   "execution_count": 52,
   "metadata": {},
   "outputs": [
    {
     "data": {
      "text/plain": [
       "[['gi|391738224|ref|NM_001130174.2| Mus musculus troponin T2, cardiac (Tnnt2), transcript variant 1, mRNA'],\n",
       " ['ACAAGGCCCCAGCCCACATGCCTGCTTAAAGCTCTCCCCATGCCCTGCCCTCAGCCAGTCCCTGCTGAGGCTGAACAGATACCTCAAGACCTGTGTGCAGTCCCTGTTCAGAGGGAGAGCCGAGAGCATGTCTGACGCCGAGGAGGTGGTGGAGGAGTACGAGGAGGAACAGGAAGAAGCTGTGGAAGAGGAAGACTGGAGTGAAGAAGAGGAGGACGAGCAAGAGGAGGCAGTGGAGGAGGAGGAGGCTGGTGGGGCTGAACCTGAGCCTGAGGGTGAGGCTGAGACAGAGGAGGCCAACGTAGAAGAGGTTGGTCCTGATGAAGAAGCCAAAGATGCTGAAGAAGGTCCAGTAGAGGACACCAAACCCAAGCCCAGCAGGCTCTTCATGCCCAACTTGGTGCCACCCAAGATCCCCGATGGAGAGAGAGTGGACTTTGATGACATCCACAGGAAGCGCGTGGAGAAGGACCTGAATGAGCTACAGACTCTGATCGAGGCTCACTTCGAGAACAGGAAGAAGGAGGAAGAGGAGCTGATTTCCCTCAAAGACAGGATCGAAAAGCGTCGGGCAGAGCGGGCCGAGCAGCAGCGTATTCGCAATGAGCGGGAGAAGGAAAGGCAGAACCGCCTGGCTGAAGAGAGGGCCCGGCGTGAGGAGGAGGAGAACAGGAGGAAGGCTGAGGATGAGGCCCGGAAGAAGAAGGCTCTGTCCAACATGATGCACTTTGGAGGGTACATCCAGAAGACAGAGCGGAAGAGTGGGAAGAGACAGACAGAGAGAGAGAAGAAGAAGAAGATCCTGGCAGAGAGGAGGAAGGCGCTGGCCATCGACCACCTGAATGAAGACCAACTGAGAGAGAAGGCCAAGGAGCTGTGGCAGAGTATTCACAACCTGGAGGCTGAGAAGTTCGACCTGCAGGAAAAGTTCAAGCAGCAGAAATACGAAATCAACGTTCTGCGAAACCGGATCAATGACAACCAGAAAGTCTCCAAAACTCGTGGGAAGGCCAAAGTCACCGGGCGTTGGAAATAGATGAAACTGTTCTCGTCAAAGCTGTGCCCCCTGCTTGTGTCCTTGCCCCGTGCATCCCAGCTCTGGGTCCTCCTTGGCACCCAATGCAGACTCCTGTTTGGATAGTGGGAGCTGGCTTAGCTAGAAGCCAGTACTCTGCCTGACCCCTATGCCCGCACTATGCCAGCAATAAAAAGCCAACACACTGCACATATGG']]"
      ]
     },
     "execution_count": 52,
     "metadata": {},
     "output_type": "execute_result"
    }
   ],
   "source": [
    "ld.fastaread('E:\\\\Bogdan\\\\PallavProbes\\\\tnnt2.fasta')"
   ]
  },
  {
   "cell_type": "code",
   "execution_count": null,
   "metadata": {},
   "outputs": [],
   "source": []
  }
 ],
 "metadata": {
  "anaconda-cloud": {},
  "kernelspec": {
   "display_name": "Python 2",
   "language": "python",
   "name": "python2"
  },
  "language_info": {
   "codemirror_mode": {
    "name": "ipython",
    "version": 2
   },
   "file_extension": ".py",
   "mimetype": "text/x-python",
   "name": "python",
   "nbconvert_exporter": "python",
   "pygments_lexer": "ipython2",
   "version": "2.7.15"
  }
 },
 "nbformat": 4,
 "nbformat_minor": 2
}
